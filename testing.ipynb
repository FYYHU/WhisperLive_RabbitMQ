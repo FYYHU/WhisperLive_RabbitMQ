{
 "cells": [
  {
   "cell_type": "code",
   "execution_count": 17,
   "metadata": {},
   "outputs": [],
   "source": [
    "from faster_whisper import WhisperModel\n",
    "from faster_whisper import vad\n",
    "import torch"
   ]
  },
  {
   "cell_type": "code",
   "execution_count": 18,
   "metadata": {},
   "outputs": [
    {
     "name": "stderr",
     "output_type": "stream",
     "text": [
      "C:\\Users\\frank\\AppData\\Local\\Temp\\ipykernel_17532\\393523855.py:7: UserWarning: torchaudio._backend.set_audio_backend has been deprecated. With dispatcher enabled, this function is no-op. You can remove the function call.\n",
      "  torchaudio.set_audio_backend(\"soundfile\")\n"
     ]
    }
   ],
   "source": [
    "import io\n",
    "import numpy as np\n",
    "torch.set_num_threads(1)\n",
    "import torchaudio\n",
    "import matplotlib\n",
    "import matplotlib.pylab as plt\n",
    "torchaudio.set_audio_backend(\"soundfile\")\n",
    "import pyaudio"
   ]
  },
  {
   "cell_type": "code",
   "execution_count": 19,
   "metadata": {},
   "outputs": [
    {
     "name": "stderr",
     "output_type": "stream",
     "text": [
      "Downloading: \"https://github.com/snakers4/silero-vad/zipball/master\" to C:\\Users\\frank/.cache\\torch\\hub\\master.zip\n"
     ]
    }
   ],
   "source": [
    "vadmodel, utils = torch.hub.load(repo_or_dir='snakers4/silero-vad',\n",
    "                              model='silero_vad',\n",
    "                              force_reload=True)"
   ]
  },
  {
   "cell_type": "code",
   "execution_count": 4,
   "metadata": {},
   "outputs": [],
   "source": [
    "model_size = \"tiny.en\""
   ]
  },
  {
   "cell_type": "code",
   "execution_count": 5,
   "metadata": {},
   "outputs": [],
   "source": [
    "model = WhisperModel(model_size, device=\"cpu\", compute_type=\"int8\")"
   ]
  },
  {
   "cell_type": "code",
   "execution_count": 6,
   "metadata": {},
   "outputs": [],
   "source": [
    "segments, info = model.transcribe(\"chunks/test.wav\", beam_size=5)"
   ]
  },
  {
   "cell_type": "code",
   "execution_count": 7,
   "metadata": {},
   "outputs": [
    {
     "name": "stdout",
     "output_type": "stream",
     "text": [
      "Segment(id=1, seek=2600, start=0.0, end=7.0, text=' The birch canoes slid on the smooth planks, glue the sheet to the dark blue background.', tokens=[50363, 383, 35122, 354, 460, 3028, 27803, 319, 262, 7209, 1410, 591, 11, 22749, 262, 9629, 284, 262, 3223, 4171, 4469, 13, 50713], temperature=0.0, avg_logprob=-0.25842314483003415, compression_ratio=1.5789473684210527, no_speech_prob=0.06872095167636871, words=None)\n",
      "Segment(id=2, seek=2600, start=7.0, end=10.0, text=' It is easy to tell the depth of a well.', tokens=[50713, 632, 318, 2562, 284, 1560, 262, 6795, 286, 257, 880, 13, 50863], temperature=0.0, avg_logprob=-0.25842314483003415, compression_ratio=1.5789473684210527, no_speech_prob=0.06872095167636871, words=None)\n",
      "Segment(id=3, seek=2600, start=10.0, end=14.0, text=' These days the chicken leg is a rare dish.', tokens=[50863, 2312, 1528, 262, 9015, 1232, 318, 257, 4071, 9433, 13, 51063], temperature=0.0, avg_logprob=-0.25842314483003415, compression_ratio=1.5789473684210527, no_speech_prob=0.06872095167636871, words=None)\n",
      "Segment(id=4, seek=2600, start=14.0, end=17.0, text=' Rice is often served in round bowls.', tokens=[51063, 13823, 318, 1690, 4983, 287, 2835, 34796, 13, 51213], temperature=0.0, avg_logprob=-0.25842314483003415, compression_ratio=1.5789473684210527, no_speech_prob=0.06872095167636871, words=None)\n",
      "Segment(id=5, seek=2600, start=17.0, end=20.0, text=' The juice of lemons makes fine punch.', tokens=[51213, 383, 13135, 286, 443, 11567, 1838, 3734, 10862, 13, 51363], temperature=0.0, avg_logprob=-0.25842314483003415, compression_ratio=1.5789473684210527, no_speech_prob=0.06872095167636871, words=None)\n",
      "Segment(id=6, seek=2600, start=20.0, end=23.0, text=' The box was thrown beside the punk truck.', tokens=[51363, 383, 3091, 373, 8754, 13970, 262, 22782, 7779, 13, 51513], temperature=0.0, avg_logprob=-0.25842314483003415, compression_ratio=1.5789473684210527, no_speech_prob=0.06872095167636871, words=None)\n",
      "Segment(id=7, seek=2600, start=23.0, end=26.0, text=' The hogs are fed chopped corn and garbage.', tokens=[51513, 383, 289, 18463, 389, 11672, 20720, 11676, 290, 15413, 13, 51663], temperature=0.0, avg_logprob=-0.25842314483003415, compression_ratio=1.5789473684210527, no_speech_prob=0.06872095167636871, words=None)\n",
      "Segment(id=8, seek=3362, start=27.0, end=30.0, text=' Four hours of study work face to this.', tokens=[50413, 6675, 2250, 286, 2050, 670, 1986, 284, 428, 13, 50563], temperature=0.0, avg_logprob=-0.2533876991271973, compression_ratio=1.0379746835443038, no_speech_prob=0.06807810813188553, words=None)\n",
      "Segment(id=9, seek=3362, start=30.0, end=33.0, text=' A large size and stockings is hard to sell.', tokens=[50563, 317, 1588, 2546, 290, 4283, 654, 318, 1327, 284, 3677, 13, 50713], temperature=0.0, avg_logprob=-0.2533876991271973, compression_ratio=1.0379746835443038, no_speech_prob=0.06807810813188553, words=None)\n"
     ]
    }
   ],
   "source": [
    "for segment in segments:\n",
    "    print(segment)"
   ]
  },
  {
   "cell_type": "code",
   "execution_count": 8,
   "metadata": {},
   "outputs": [],
   "source": [
    "segments, info = model.transcribe(\"chunks/0.wav\", beam_size=5, vad_filter=True)"
   ]
  }
 ],
 "metadata": {
  "kernelspec": {
   "display_name": "whisperlive",
   "language": "python",
   "name": "python3"
  },
  "language_info": {
   "codemirror_mode": {
    "name": "ipython",
    "version": 3
   },
   "file_extension": ".py",
   "mimetype": "text/x-python",
   "name": "python",
   "nbconvert_exporter": "python",
   "pygments_lexer": "ipython3",
   "version": "3.8.18"
  }
 },
 "nbformat": 4,
 "nbformat_minor": 2
}
